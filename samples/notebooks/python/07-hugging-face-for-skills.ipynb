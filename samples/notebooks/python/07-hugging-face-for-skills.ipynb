{
 "cells": [
  {
   "attachments": {},
   "cell_type": "markdown",
   "id": "68e1c158",
   "metadata": {},
   "source": [
    "# Using Hugging Face With Skills\n",
    "\n",
    "In this notebook, we demonstrate using Hugging Face models for Skills using both SemanticMemory and text completions. \n",
    "\n",
    "SK supports downloading models from the Hugging Face that can perform the following tasks: text-generation, text2text-generation, summarization, and sentence-similarity. You can search for models by task at https://huggingface.co/models."
   ]
  },
  {
   "cell_type": "code",
   "execution_count": 7,
   "id": "a77bdf89",
   "metadata": {},
   "outputs": [
    {
     "name": "stdout",
     "output_type": "stream",
     "text": [
      "Collecting torch==2.0.0\n",
      "  Using cached torch-2.0.0-cp38-cp38-win_amd64.whl (172.3 MB)\n",
      "Requirement already satisfied: filelock in c:\\users\\shhuan\\.conda\\envs\\srsc\\lib\\site-packages (from torch==2.0.0) (3.12.2)\n",
      "Requirement already satisfied: typing-extensions in c:\\users\\shhuan\\.conda\\envs\\srsc\\lib\\site-packages (from torch==2.0.0) (4.6.3)\n",
      "Requirement already satisfied: sympy in c:\\users\\shhuan\\.conda\\envs\\srsc\\lib\\site-packages (from torch==2.0.0) (1.12)\n",
      "Requirement already satisfied: networkx in c:\\users\\shhuan\\.conda\\envs\\srsc\\lib\\site-packages (from torch==2.0.0) (3.1)\n",
      "Requirement already satisfied: jinja2 in c:\\users\\shhuan\\.conda\\envs\\srsc\\lib\\site-packages (from torch==2.0.0) (3.1.2)\n",
      "Requirement already satisfied: MarkupSafe>=2.0 in c:\\users\\shhuan\\.conda\\envs\\srsc\\lib\\site-packages (from jinja2->torch==2.0.0) (2.1.3)\n",
      "Requirement already satisfied: mpmath>=0.19 in c:\\users\\shhuan\\.conda\\envs\\srsc\\lib\\site-packages (from sympy->torch==2.0.0) (1.3.0)\n",
      "Installing collected packages: torch\n",
      "  Attempting uninstall: torch\n",
      "    Found existing installation: torch 2.0.1\n",
      "    Uninstalling torch-2.0.1:\n",
      "      Successfully uninstalled torch-2.0.1\n",
      "Successfully installed torch-2.0.0\n"
     ]
    },
    {
     "name": "stderr",
     "output_type": "stream",
     "text": [
      "WARNING: Ignoring invalid distribution -orch (c:\\users\\shhuan\\.conda\\envs\\srsc\\lib\\site-packages)\n",
      "WARNING: Ignoring invalid distribution -orch (c:\\users\\shhuan\\.conda\\envs\\srsc\\lib\\site-packages)\n",
      "ERROR: pip's dependency resolver does not currently take into account all the packages that are installed. This behaviour is the source of the following dependency conflicts.\n",
      "torchvision 0.15.2 requires torch==2.0.1, but you have torch 2.0.0 which is incompatible.\n"
     ]
    },
    {
     "name": "stdout",
     "output_type": "stream",
     "text": [
      "Requirement already satisfied: transformers==4.28.1 in c:\\users\\shhuan\\.conda\\envs\\srsc\\lib\\site-packages (4.28.1)"
     ]
    },
    {
     "name": "stderr",
     "output_type": "stream",
     "text": [
      "WARNING: Ignoring invalid distribution -orch (c:\\users\\shhuan\\.conda\\envs\\srsc\\lib\\site-packages)\n",
      "WARNING: Ignoring invalid distribution -orch (c:\\users\\shhuan\\.conda\\envs\\srsc\\lib\\site-packages)\n"
     ]
    },
    {
     "name": "stdout",
     "output_type": "stream",
     "text": [
      "\n",
      "Requirement already satisfied: filelock in c:\\users\\shhuan\\.conda\\envs\\srsc\\lib\\site-packages (from transformers==4.28.1) (3.12.2)\n",
      "Requirement already satisfied: huggingface-hub<1.0,>=0.11.0 in c:\\users\\shhuan\\.conda\\envs\\srsc\\lib\\site-packages (from transformers==4.28.1) (0.15.1)\n",
      "Requirement already satisfied: numpy>=1.17 in c:\\users\\shhuan\\.conda\\envs\\srsc\\lib\\site-packages (from transformers==4.28.1) (1.24.3)\n",
      "Requirement already satisfied: packaging>=20.0 in c:\\users\\shhuan\\.conda\\envs\\srsc\\lib\\site-packages (from transformers==4.28.1) (21.3)\n",
      "Requirement already satisfied: pyyaml>=5.1 in c:\\users\\shhuan\\.conda\\envs\\srsc\\lib\\site-packages (from transformers==4.28.1) (6.0)\n",
      "Requirement already satisfied: regex!=2019.12.17 in c:\\users\\shhuan\\.conda\\envs\\srsc\\lib\\site-packages (from transformers==4.28.1) (2023.6.3)\n",
      "Requirement already satisfied: requests in c:\\users\\shhuan\\.conda\\envs\\srsc\\lib\\site-packages (from transformers==4.28.1) (2.31.0)\n",
      "Requirement already satisfied: tokenizers!=0.11.3,<0.14,>=0.11.1 in c:\\users\\shhuan\\.conda\\envs\\srsc\\lib\\site-packages (from transformers==4.28.1) (0.13.3)\n",
      "Requirement already satisfied: tqdm>=4.27 in c:\\users\\shhuan\\.conda\\envs\\srsc\\lib\\site-packages (from transformers==4.28.1) (4.65.0)\n",
      "Requirement already satisfied: fsspec in c:\\users\\shhuan\\.conda\\envs\\srsc\\lib\\site-packages (from huggingface-hub<1.0,>=0.11.0->transformers==4.28.1) (2023.6.0)\n",
      "Requirement already satisfied: typing-extensions>=3.7.4.3 in c:\\users\\shhuan\\.conda\\envs\\srsc\\lib\\site-packages (from huggingface-hub<1.0,>=0.11.0->transformers==4.28.1) (4.6.3)\n",
      "Requirement already satisfied: pyparsing!=3.0.5,>=2.0.2 in c:\\users\\shhuan\\.conda\\envs\\srsc\\lib\\site-packages (from packaging>=20.0->transformers==4.28.1) (3.0.9)\n",
      "Requirement already satisfied: colorama in c:\\users\\shhuan\\.conda\\envs\\srsc\\lib\\site-packages (from tqdm>=4.27->transformers==4.28.1) (0.4.6)\n",
      "Requirement already satisfied: charset-normalizer<4,>=2 in c:\\users\\shhuan\\.conda\\envs\\srsc\\lib\\site-packages (from requests->transformers==4.28.1) (3.1.0)\n",
      "Requirement already satisfied: idna<4,>=2.5 in c:\\users\\shhuan\\.conda\\envs\\srsc\\lib\\site-packages (from requests->transformers==4.28.1) (3.4)\n",
      "Requirement already satisfied: urllib3<3,>=1.21.1 in c:\\users\\shhuan\\.conda\\envs\\srsc\\lib\\site-packages (from requests->transformers==4.28.1) (1.26.16)\n",
      "Requirement already satisfied: certifi>=2017.4.17 in c:\\users\\shhuan\\.conda\\envs\\srsc\\lib\\site-packages (from requests->transformers==4.28.1) (2023.5.7)\n",
      "Requirement already satisfied: sentence-transformers==2.2.2 in c:\\users\\shhuan\\.conda\\envs\\srsc\\lib\\site-packages (2.2.2)\n",
      "Requirement already satisfied: transformers<5.0.0,>=4.6.0 in c:\\users\\shhuan\\.conda\\envs\\srsc\\lib\\site-packages (from sentence-transformers==2.2.2) (4.28.1)\n",
      "Requirement already satisfied: tqdm in c:\\users\\shhuan\\.conda\\envs\\srsc\\lib\\site-packages (from sentence-transformers==2.2.2) (4.65.0)\n",
      "Requirement already satisfied: torch>=1.6.0 in c:\\users\\shhuan\\.conda\\envs\\srsc\\lib\\site-packages (from sentence-transformers==2.2.2) (2.0.0)\n",
      "Requirement already satisfied: torchvision in c:\\users\\shhuan\\.conda\\envs\\srsc\\lib\\site-packages (from sentence-transformers==2.2.2) (0.15.2)\n",
      "Requirement already satisfied: numpy in c:\\users\\shhuan\\.conda\\envs\\srsc\\lib\\site-packages (from sentence-transformers==2.2.2) (1.24.3)\n",
      "Requirement already satisfied: scikit-learn in c:\\users\\shhuan\\.conda\\envs\\srsc\\lib\\site-packages (from sentence-transformers==2.2.2) (1.2.2)\n",
      "Requirement already satisfied: scipy in c:\\users\\shhuan\\.conda\\envs\\srsc\\lib\\site-packages (from sentence-transformers==2.2.2) (1.10.1)\n",
      "Requirement already satisfied: nltk in c:\\users\\shhuan\\.conda\\envs\\srsc\\lib\\site-packages (from sentence-transformers==2.2.2) (3.8.1)\n",
      "Requirement already satisfied: sentencepiece in c:\\users\\shhuan\\.conda\\envs\\srsc\\lib\\site-packages (from sentence-transformers==2.2.2) (0.1.99)\n",
      "Requirement already satisfied: huggingface-hub>=0.4.0 in c:\\users\\shhuan\\.conda\\envs\\srsc\\lib\\site-packages (from sentence-transformers==2.2.2) (0.15.1)\n",
      "Requirement already satisfied: filelock in c:\\users\\shhuan\\.conda\\envs\\srsc\\lib\\site-packages (from huggingface-hub>=0.4.0->sentence-transformers==2.2.2) (3.12.2)\n",
      "Requirement already satisfied: fsspec in c:\\users\\shhuan\\.conda\\envs\\srsc\\lib\\site-packages (from huggingface-hub>=0.4.0->sentence-transformers==2.2.2) (2023.6.0)\n",
      "Requirement already satisfied: requests in c:\\users\\shhuan\\.conda\\envs\\srsc\\lib\\site-packages (from huggingface-hub>=0.4.0->sentence-transformers==2.2.2) (2.31.0)\n",
      "Requirement already satisfied: pyyaml>=5.1 in c:\\users\\shhuan\\.conda\\envs\\srsc\\lib\\site-packages (from huggingface-hub>=0.4.0->sentence-transformers==2.2.2) (6.0)\n",
      "Requirement already satisfied: typing-extensions>=3.7.4.3 in c:\\users\\shhuan\\.conda\\envs\\srsc\\lib\\site-packages (from huggingface-hub>=0.4.0->sentence-transformers==2.2.2) (4.6.3)\n",
      "Requirement already satisfied: packaging>=20.9 in c:\\users\\shhuan\\.conda\\envs\\srsc\\lib\\site-packages (from huggingface-hub>=0.4.0->sentence-transformers==2.2.2) (21.3)\n",
      "Requirement already satisfied: sympy in c:\\users\\shhuan\\.conda\\envs\\srsc\\lib\\site-packages (from torch>=1.6.0->sentence-transformers==2.2.2) (1.12)\n",
      "Requirement already satisfied: networkx in c:\\users\\shhuan\\.conda\\envs\\srsc\\lib\\site-packages (from torch>=1.6.0->sentence-transformers==2.2.2) (3.1)\n",
      "Requirement already satisfied: jinja2 in c:\\users\\shhuan\\.conda\\envs\\srsc\\lib\\site-packages (from torch>=1.6.0->sentence-transformers==2.2.2) (3.1.2)\n",
      "Requirement already satisfied: colorama in c:\\users\\shhuan\\.conda\\envs\\srsc\\lib\\site-packages (from tqdm->sentence-transformers==2.2.2) (0.4.6)\n",
      "Requirement already satisfied: regex!=2019.12.17 in c:\\users\\shhuan\\.conda\\envs\\srsc\\lib\\site-packages (from transformers<5.0.0,>=4.6.0->sentence-transformers==2.2.2) (2023.6.3)\n",
      "Requirement already satisfied: tokenizers!=0.11.3,<0.14,>=0.11.1 in c:\\users\\shhuan\\.conda\\envs\\srsc\\lib\\site-packages (from transformers<5.0.0,>=4.6.0->sentence-transformers==2.2.2) (0.13.3)\n",
      "Requirement already satisfied: click in c:\\users\\shhuan\\.conda\\envs\\srsc\\lib\\site-packages (from nltk->sentence-transformers==2.2.2) (8.1.3)\n",
      "Requirement already satisfied: joblib in c:\\users\\shhuan\\.conda\\envs\\srsc\\lib\\site-packages (from nltk->sentence-transformers==2.2.2) (1.2.0)\n",
      "Requirement already satisfied: threadpoolctl>=2.0.0 in c:\\users\\shhuan\\.conda\\envs\\srsc\\lib\\site-packages (from scikit-learn->sentence-transformers==2.2.2) (3.1.0)\n",
      "Collecting torch>=1.6.0 (from sentence-transformers==2.2.2)\n",
      "  Using cached torch-2.0.1-cp38-cp38-win_amd64.whl (172.4 MB)\n",
      "Requirement already satisfied: pillow!=8.3.*,>=5.3.0 in c:\\users\\shhuan\\.conda\\envs\\srsc\\lib\\site-packages (from torchvision->sentence-transformers==2.2.2) (9.5.0)\n",
      "Requirement already satisfied: pyparsing!=3.0.5,>=2.0.2 in c:\\users\\shhuan\\.conda\\envs\\srsc\\lib\\site-packages (from packaging>=20.9->huggingface-hub>=0.4.0->sentence-transformers==2.2.2) (3.0.9)\n",
      "Requirement already satisfied: MarkupSafe>=2.0 in c:\\users\\shhuan\\.conda\\envs\\srsc\\lib\\site-packages (from jinja2->torch>=1.6.0->sentence-transformers==2.2.2) (2.1.3)\n",
      "Requirement already satisfied: charset-normalizer<4,>=2 in c:\\users\\shhuan\\.conda\\envs\\srsc\\lib\\site-packages (from requests->huggingface-hub>=0.4.0->sentence-transformers==2.2.2) (3.1.0)\n",
      "Requirement already satisfied: idna<4,>=2.5 in c:\\users\\shhuan\\.conda\\envs\\srsc\\lib\\site-packages (from requests->huggingface-hub>=0.4.0->sentence-transformers==2.2.2) (3.4)\n",
      "Requirement already satisfied: urllib3<3,>=1.21.1 in c:\\users\\shhuan\\.conda\\envs\\srsc\\lib\\site-packages (from requests->huggingface-hub>=0.4.0->sentence-transformers==2.2.2) (1.26.16)\n",
      "Requirement already satisfied: certifi>=2017.4.17 in c:\\users\\shhuan\\.conda\\envs\\srsc\\lib\\site-packages (from requests->huggingface-hub>=0.4.0->sentence-transformers==2.2.2) (2023.5.7)\n",
      "Requirement already satisfied: mpmath>=0.19 in c:\\users\\shhuan\\.conda\\envs\\srsc\\lib\\site-packages (from sympy->torch>=1.6.0->sentence-transformers==2.2.2) (1.3.0)\n",
      "Installing collected packages: torch\n",
      "  Attempting uninstall: torch\n",
      "    Found existing installation: torch 2.0.0\n",
      "    Uninstalling torch-2.0.0:\n",
      "      Successfully uninstalled torch-2.0.0\n",
      "Successfully installed torch-2.0.1\n"
     ]
    },
    {
     "name": "stderr",
     "output_type": "stream",
     "text": [
      "WARNING: Ignoring invalid distribution -orch (c:\\users\\shhuan\\.conda\\envs\\srsc\\lib\\site-packages)\n",
      "WARNING: Ignoring invalid distribution -orch (c:\\users\\shhuan\\.conda\\envs\\srsc\\lib\\site-packages)\n"
     ]
    }
   ],
   "source": [
    "# !python -m pip install semantic-kernel==0.2.7.dev0\n",
    "\n",
    "# Note that additional dependencies are required for the Hugging Face connectors:\n",
    "!python -m pip install torch==2.0.0\n",
    "!python -m pip install transformers==4.28.1\n",
    "!python -m pip install sentence-transformers==2.2.2"
   ]
  },
  {
   "cell_type": "code",
   "execution_count": 1,
   "id": "508ad44f",
   "metadata": {},
   "outputs": [],
   "source": [
    "import semantic_kernel as sk\n",
    "import semantic_kernel.connectors.ai.hugging_face as sk_hf"
   ]
  },
  {
   "attachments": {},
   "cell_type": "markdown",
   "id": "d8ddffc1",
   "metadata": {},
   "source": [
    "First, we will create a kernel and add both text completion and embedding services. \n",
    "\n",
    "For text completion, we are chosing gp2. This is a text-generation model. (Note: text-generation will repeat the input in the output, text2text-generation will not.)\n",
    "For embeddings, we are using sentence-transformers/all-MiniLM-L6-v2. Vectors generated for this model are of length 384 (compared to a length of 1536 from OpenAI ADA).\n",
    "\n",
    "The following step may take a few minutes when run for the first time as the models will be downloaded to your local machine."
   ]
  },
  {
   "cell_type": "code",
   "execution_count": 2,
   "id": "89626515",
   "metadata": {},
   "outputs": [
    {
     "name": "stderr",
     "output_type": "stream",
     "text": [
      "c:\\Users\\shhuan\\.conda\\envs\\srsc\\lib\\site-packages\\tqdm\\auto.py:21: TqdmWarning: IProgress not found. Please update jupyter and ipywidgets. See https://ipywidgets.readthedocs.io/en/stable/user_install.html\n",
      "  from .autonotebook import tqdm as notebook_tqdm\n"
     ]
    },
    {
     "data": {
      "text/plain": [
       "{'recall': <semantic_kernel.orchestration.sk_function.SKFunction at 0x25b02780670>,\n",
       " 'save': <semantic_kernel.orchestration.sk_function.SKFunction at 0x25b02780550>}"
      ]
     },
     "execution_count": 2,
     "metadata": {},
     "output_type": "execute_result"
    }
   ],
   "source": [
    "kernel = sk.Kernel()\n",
    "\n",
    "# Configure LLM service\n",
    "kernel.add_text_completion_service(\n",
    "    \"gpt2\", sk_hf.HuggingFaceTextCompletion(\"gpt2\", task=\"text-generation\")\n",
    ")\n",
    "kernel.add_text_embedding_generation_service(\n",
    "    \"sentence-transformers/all-MiniLM-L6-v2\",\n",
    "    sk_hf.HuggingFaceTextEmbedding(\"sentence-transformers/all-MiniLM-L6-v2\"),\n",
    ")\n",
    "kernel.register_memory_store(memory_store=sk.memory.VolatileMemoryStore())\n",
    "kernel.import_skill(sk.core_skills.TextMemorySkill())"
   ]
  },
  {
   "attachments": {},
   "cell_type": "markdown",
   "id": "2a7e7ca4",
   "metadata": {},
   "source": [
    "### Add Memories and Define a skill to use them\n",
    "\n",
    "Most models available on huggingface.co are not as powerful as OpenAI GPT-3+. Your skills will likely need to be simpler to accomodate this."
   ]
  },
  {
   "cell_type": "code",
   "execution_count": 3,
   "id": "d096504c",
   "metadata": {},
   "outputs": [],
   "source": [
    "await kernel.memory.save_information_async(\n",
    "    \"animal-facts\", id=\"info1\", text=\"Sharks are fish.\"\n",
    ")\n",
    "await kernel.memory.save_information_async(\n",
    "    \"animal-facts\", id=\"info2\", text=\"Whales are mammals.\"\n",
    ")\n",
    "await kernel.memory.save_information_async(\n",
    "    \"animal-facts\", id=\"info3\", text=\"Penguins are birds.\"\n",
    ")\n",
    "await kernel.memory.save_information_async(\n",
    "    \"animal-facts\", id=\"info4\", text=\"Dolphins are mammals.\"\n",
    ")\n",
    "await kernel.memory.save_information_async(\n",
    "    \"animal-facts\", id=\"info5\", text=\"Flies are insects.\"\n",
    ")\n",
    "\n",
    "# Define semantic function using SK prompt template language\n",
    "my_prompt = \"\"\"I know these animal facts: {{recall $query1}} {{recall $query2}} {{recall $query3}} and \"\"\"\n",
    "\n",
    "# Create the semantic function\n",
    "my_function = kernel.create_semantic_function(\n",
    "    my_prompt, max_tokens=100, temperature=0.2, top_p=0.5\n",
    ")\n"
   ]
  },
  {
   "attachments": {},
   "cell_type": "markdown",
   "id": "2caf8575",
   "metadata": {},
   "source": [
    "Let's now see what the completion looks like! Remember, \"gpt2\" is nowhere near as large as ChatGPT, so expect a much simpler answer."
   ]
  },
  {
   "cell_type": "code",
   "execution_count": 4,
   "id": "628c843e",
   "metadata": {},
   "outputs": [
    {
     "name": "stdout",
     "output_type": "stream",
     "text": [
      "gpt2 completed prompt with: 'I know these animal facts: Dolphins are mammals. Flies are insects. Penguins are birds. and ichthyosaurs are reptiles.\n",
      "\n",
      "But the fact that the animals are not mammals is not a surprise.\n",
      "\n",
      "The fact that the animals are not mammals is not a surprise.\n",
      "\n",
      "The fact that the animals are not mammals is not a surprise.\n",
      "\n",
      "The fact that the animals are not mammals is not a surprise.\n",
      "\n",
      "The fact that the animals are not mammals is not a surprise.\n",
      "\n",
      "The fact that the animals are not mammals is not a surprise.\n",
      "\n",
      "The'\n"
     ]
    }
   ],
   "source": [
    "context = kernel.create_new_context()\n",
    "context[sk.core_skills.TextMemorySkill.COLLECTION_PARAM] = \"animal-facts\"\n",
    "context[sk.core_skills.TextMemorySkill.RELEVANCE_PARAM] = 0.3\n",
    "\n",
    "context[\"query1\"] = \"animal that swims\"\n",
    "context[\"query2\"] = \"animal that flies\"\n",
    "context[\"query3\"] = \"penguins are?\"\n",
    "output = await kernel.run_async(my_function, input_vars=context.variables)\n",
    "\n",
    "output = str(output).strip()\n",
    "\n",
    "\n",
    "query_result1 = await kernel.memory.search_async(\n",
    "    \"animal-facts\", context[\"query1\"], limit=1, min_relevance_score=0.3\n",
    ")\n",
    "query_result2 = await kernel.memory.search_async(\n",
    "    \"animal-facts\", context[\"query2\"], limit=1, min_relevance_score=0.3\n",
    ")\n",
    "query_result3 = await kernel.memory.search_async(\n",
    "    \"animal-facts\", context[\"query3\"], limit=1, min_relevance_score=0.3\n",
    ")\n",
    "\n",
    "print(f\"gpt2 completed prompt with: '{output}'\")"
   ]
  }
 ],
 "metadata": {
  "kernelspec": {
   "display_name": "Python 3 (ipykernel)",
   "language": "python",
   "name": "python3"
  },
  "language_info": {
   "codemirror_mode": {
    "name": "ipython",
    "version": 3
   },
   "file_extension": ".py",
   "mimetype": "text/x-python",
   "name": "python",
   "nbconvert_exporter": "python",
   "pygments_lexer": "ipython3",
   "version": "3.8.16"
  }
 },
 "nbformat": 4,
 "nbformat_minor": 5
}
