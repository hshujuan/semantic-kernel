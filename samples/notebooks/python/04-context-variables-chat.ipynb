{
 "cells": [
  {
   "attachments": {},
   "cell_type": "markdown",
   "id": "fde98ddf",
   "metadata": {},
   "source": [
    "# Creating a basic chat experience with context variables\n",
    "\n",
    "In this example, we show how you can build a simple chat bot by sending and updating context with your requests. \n",
    "\n",
    "We introduce the Context Variables object which in this demo functions similarly as a key-value store that you can use when running the kernel.\n",
    "\n",
    "The context is local (i.e. in your computer's RAM) and not persisted anywhere beyond the life of this Jupyter session.\n",
    "\n",
    "In future examples, we will show how to persist the context on disk so that you can bring it into your applications.  \n",
    "\n",
    "In this chat scenario, as the user talks back and forth with the bot, the context gets populated with the history of the conversation. During each new run of the kernel, the context can provide the AI with its variables' content. "
   ]
  },
  {
   "cell_type": "code",
   "execution_count": 4,
   "id": "92f69b34",
   "metadata": {},
   "outputs": [
    {
     "name": "stdout",
     "output_type": "stream",
     "text": [
      "Requirement already satisfied: semantic-kernel==0.2.7.dev0 in c:\\users\\shhuan\\.conda\\envs\\srsc\\lib\\site-packages (0.2.7.dev0)\n",
      "Requirement already satisfied: aiofiles<24.0.0,>=23.1.0 in c:\\users\\shhuan\\.conda\\envs\\srsc\\lib\\site-packages (from semantic-kernel==0.2.7.dev0) (23.1.0)\n",
      "Requirement already satisfied: numpy<2.0.0,>=1.24.2 in c:\\users\\shhuan\\.conda\\envs\\srsc\\lib\\site-packages (from semantic-kernel==0.2.7.dev0) (1.24.3)\n",
      "Requirement already satisfied: openai<0.28.0,>=0.27.0 in c:\\users\\shhuan\\.conda\\envs\\srsc\\lib\\site-packages (from semantic-kernel==0.2.7.dev0) (0.27.8)\n",
      "Requirement already satisfied: requests>=2.20 in c:\\users\\shhuan\\.conda\\envs\\srsc\\lib\\site-packages (from openai<0.28.0,>=0.27.0->semantic-kernel==0.2.7.dev0) (2.31.0)\n",
      "Requirement already satisfied: tqdm in c:\\users\\shhuan\\.conda\\envs\\srsc\\lib\\site-packages (from openai<0.28.0,>=0.27.0->semantic-kernel==0.2.7.dev0) (4.65.0)\n",
      "Requirement already satisfied: aiohttp in c:\\users\\shhuan\\.conda\\envs\\srsc\\lib\\site-packages (from openai<0.28.0,>=0.27.0->semantic-kernel==0.2.7.dev0) (3.8.4)\n",
      "Requirement already satisfied: charset-normalizer<4,>=2 in c:\\users\\shhuan\\.conda\\envs\\srsc\\lib\\site-packages (from requests>=2.20->openai<0.28.0,>=0.27.0->semantic-kernel==0.2.7.dev0) (3.1.0)\n",
      "Requirement already satisfied: idna<4,>=2.5 in c:\\users\\shhuan\\.conda\\envs\\srsc\\lib\\site-packages (from requests>=2.20->openai<0.28.0,>=0.27.0->semantic-kernel==0.2.7.dev0) (3.4)\n",
      "Requirement already satisfied: urllib3<3,>=1.21.1 in c:\\users\\shhuan\\.conda\\envs\\srsc\\lib\\site-packages (from requests>=2.20->openai<0.28.0,>=0.27.0->semantic-kernel==0.2.7.dev0) (1.26.16)\n",
      "Requirement already satisfied: certifi>=2017.4.17 in c:\\users\\shhuan\\.conda\\envs\\srsc\\lib\\site-packages (from requests>=2.20->openai<0.28.0,>=0.27.0->semantic-kernel==0.2.7.dev0) (2023.5.7)\n",
      "Requirement already satisfied: attrs>=17.3.0 in c:\\users\\shhuan\\.conda\\envs\\srsc\\lib\\site-packages (from aiohttp->openai<0.28.0,>=0.27.0->semantic-kernel==0.2.7.dev0) (23.1.0)\n",
      "Requirement already satisfied: multidict<7.0,>=4.5 in c:\\users\\shhuan\\.conda\\envs\\srsc\\lib\\site-packages (from aiohttp->openai<0.28.0,>=0.27.0->semantic-kernel==0.2.7.dev0) (6.0.4)\n",
      "Requirement already satisfied: async-timeout<5.0,>=4.0.0a3 in c:\\users\\shhuan\\.conda\\envs\\srsc\\lib\\site-packages (from aiohttp->openai<0.28.0,>=0.27.0->semantic-kernel==0.2.7.dev0) (4.0.2)\n",
      "Requirement already satisfied: yarl<2.0,>=1.0 in c:\\users\\shhuan\\.conda\\envs\\srsc\\lib\\site-packages (from aiohttp->openai<0.28.0,>=0.27.0->semantic-kernel==0.2.7.dev0) (1.9.2)\n",
      "Requirement already satisfied: frozenlist>=1.1.1 in c:\\users\\shhuan\\.conda\\envs\\srsc\\lib\\site-packages (from aiohttp->openai<0.28.0,>=0.27.0->semantic-kernel==0.2.7.dev0) (1.3.3)\n",
      "Requirement already satisfied: aiosignal>=1.1.2 in c:\\users\\shhuan\\.conda\\envs\\srsc\\lib\\site-packages (from aiohttp->openai<0.28.0,>=0.27.0->semantic-kernel==0.2.7.dev0) (1.3.1)\n",
      "Requirement already satisfied: colorama in c:\\users\\shhuan\\.conda\\envs\\srsc\\lib\\site-packages (from tqdm->openai<0.28.0,>=0.27.0->semantic-kernel==0.2.7.dev0) (0.4.6)\n"
     ]
    }
   ],
   "source": [
    "!python -m pip install semantic-kernel==0.2.7.dev0"
   ]
  },
  {
   "cell_type": "code",
   "execution_count": 17,
   "id": "68301108",
   "metadata": {},
   "outputs": [],
   "source": [
    "import semantic_kernel as sk\n",
    "from semantic_kernel.connectors.ai.open_ai import AzureTextCompletion, OpenAITextCompletion\n",
    "\n",
    "kernel = sk.Kernel()\n",
    "\n",
    "\n",
    "useAzureOpenAI = True\n",
    "\n",
    "# Configure AI service used by the kernel\n",
    "if useAzureOpenAI:\n",
    "    deployment, api_key, endpoint = sk.azure_openai_settings_from_dot_env()\n",
    "    kernel.add_text_completion_service(\"dv\", AzureTextCompletion(deployment, endpoint, api_key))\n",
    "else:\n",
    "    api_key, org_id = sk.openai_settings_from_dot_env()\n",
    "    kernel.add_text_completion_service(\"dv\", OpenAITextCompletion(\"text-davinci-003\", api_key, org_id))"
   ]
  },
  {
   "attachments": {},
   "cell_type": "markdown",
   "id": "7971783d",
   "metadata": {},
   "source": [
    "Let's define a prompt outlining a dialogue chat bot."
   ]
  },
  {
   "cell_type": "code",
   "execution_count": 6,
   "id": "e84a05fc",
   "metadata": {},
   "outputs": [],
   "source": [
    "sk_prompt = \"\"\"\n",
    "ChatBot can have a conversation with you about any topic.\n",
    "It can give explicit instructions or say 'I don't know' if it does not have an answer.\n",
    "\n",
    "{{$history}}\n",
    "User: {{$user_input}}\n",
    "ChatBot: \"\"\""
   ]
  },
  {
   "attachments": {},
   "cell_type": "markdown",
   "id": "61716b16",
   "metadata": {},
   "source": [
    "Register your semantic function"
   ]
  },
  {
   "cell_type": "code",
   "execution_count": 7,
   "id": "a3e4b160",
   "metadata": {},
   "outputs": [],
   "source": [
    "chat_function = kernel.create_semantic_function(sk_prompt, \"ChatBot\", max_tokens=2000, temperature=0.7, top_p=0.5)"
   ]
  },
  {
   "attachments": {},
   "cell_type": "markdown",
   "id": "6e8a676f",
   "metadata": {},
   "source": [
    "Initialize your context"
   ]
  },
  {
   "cell_type": "code",
   "execution_count": 8,
   "id": "a4be7394",
   "metadata": {},
   "outputs": [],
   "source": [
    "context = kernel.create_new_context()\n",
    "context[\"history\"] = \"\""
   ]
  },
  {
   "attachments": {},
   "cell_type": "markdown",
   "id": "4ce7c497",
   "metadata": {},
   "source": [
    "Chat with the Bot"
   ]
  },
  {
   "cell_type": "code",
   "execution_count": 9,
   "id": "5ec41eb8",
   "metadata": {},
   "outputs": [
    {
     "name": "stdout",
     "output_type": "stream",
     "text": [
      " Hi there! What kind of books are you looking for? Fiction, non-fiction, romance, fantasy, etc.?\n"
     ]
    }
   ],
   "source": [
    "context[\"user_input\"] = \"Hi, I'm looking for book suggestions\"\n",
    "bot_answer = await chat_function.invoke_async(context=context)\n",
    "print(bot_answer)"
   ]
  },
  {
   "attachments": {},
   "cell_type": "markdown",
   "id": "a5b03748",
   "metadata": {},
   "source": [
    "Update the history with the output"
   ]
  },
  {
   "cell_type": "code",
   "execution_count": 10,
   "id": "f50f517d",
   "metadata": {},
   "outputs": [
    {
     "name": "stdout",
     "output_type": "stream",
     "text": [
      "\n",
      "User: Hi, I'm looking for book suggestions\n",
      "ChatBot:  Hi there! What kind of books are you looking for? Fiction, non-fiction, romance, fantasy, etc.?\n",
      "\n"
     ]
    }
   ],
   "source": [
    "context[\"history\"] += f\"\\nUser: {context['user_input']}\\nChatBot: {bot_answer}\\n\"\n",
    "print(context[\"history\"])"
   ]
  },
  {
   "attachments": {},
   "cell_type": "markdown",
   "id": "23a2eb02",
   "metadata": {},
   "source": [
    "Keep Chatting!"
   ]
  },
  {
   "cell_type": "code",
   "execution_count": 11,
   "id": "c59efe45",
   "metadata": {},
   "outputs": [],
   "source": [
    "async def chat(input_text: str) -> None:\n",
    "    # Save new message in the context variables\n",
    "    print(f\"User: {input_text}\")\n",
    "    context[\"user_input\"] = input_text\n",
    "\n",
    "    # Process the user message and get an answer\n",
    "    answer = await chat_function.invoke_async(context=context)\n",
    "\n",
    "    # Show the response\n",
    "    print(f\"ChatBot: {answer}\")\n",
    "\n",
    "    # Append the new interaction to the chat history\n",
    "    context[\"history\"] += f\"\\nUser: {input_text}\\nChatBot: {answer}\\n\""
   ]
  },
  {
   "cell_type": "code",
   "execution_count": 12,
   "id": "06ee244e",
   "metadata": {},
   "outputs": [
    {
     "name": "stdout",
     "output_type": "stream",
     "text": [
      "User: I love history and philosophy, I'd like to learn something new about Greece, any suggestion?\n"
     ]
    },
    {
     "name": "stdout",
     "output_type": "stream",
     "text": [
      "ChatBot:  How about Thucydides' History of the Peloponnesian War? It's a classic and provides a great overview of the events leading up to the war and its aftermath.\n"
     ]
    }
   ],
   "source": [
    "await chat(\"I love history and philosophy, I'd like to learn something new about Greece, any suggestion?\")"
   ]
  },
  {
   "cell_type": "code",
   "execution_count": 13,
   "id": "82be4e7e",
   "metadata": {},
   "outputs": [
    {
     "name": "stdout",
     "output_type": "stream",
     "text": [
      "User: that sounds interesting, what is it about?\n"
     ]
    },
    {
     "name": "stdout",
     "output_type": "stream",
     "text": [
      "ChatBot:  Thucydides' History of the Peloponnesian War is an account of the war between Athens and Sparta in the 5th century BC. It covers the events leading up to the war, the war itself, and its aftermath. It is considered one of the earliest works of history and is still studied today.\n"
     ]
    }
   ],
   "source": [
    "await chat(\"that sounds interesting, what is it about?\")"
   ]
  },
  {
   "cell_type": "code",
   "execution_count": 14,
   "id": "82fe0139",
   "metadata": {},
   "outputs": [
    {
     "name": "stdout",
     "output_type": "stream",
     "text": [
      "User: if I read that book, what exactly will I learn about Greece history?\n"
     ]
    },
    {
     "name": "stdout",
     "output_type": "stream",
     "text": [
      "ChatBot:  By reading Thucydides' History of the Peloponnesian War, you will learn about the causes of the war, the strategies used by both sides, and the consequences of the war for Greece. You will also gain insight into the political and social dynamics of the time, as well as the culture and values of the ancient Greeks.\n"
     ]
    }
   ],
   "source": [
    "await chat(\"if I read that book, what exactly will I learn about Greece history?\")"
   ]
  },
  {
   "cell_type": "code",
   "execution_count": 15,
   "id": "55b3a9f2",
   "metadata": {},
   "outputs": [
    {
     "name": "stdout",
     "output_type": "stream",
     "text": [
      "User: could you list some more books I could read about this topic?\n",
      "ChatBot:  Sure! Other books you could read about the Peloponnesian War include: Xenophon's Hellenica, Plutarch's Lives, Herodotus' Histories, and Thucydides' The Peloponnesian War. You could also read works by Aristotle, Plato, and other ancient Greek authors for more insight into the culture and values of the time.\n"
     ]
    }
   ],
   "source": [
    "await chat(\"could you list some more books I could read about this topic?\")"
   ]
  }
 ],
 "metadata": {
  "kernelspec": {
   "display_name": "Python 3 (ipykernel)",
   "language": "python",
   "name": "python3"
  },
  "language_info": {
   "codemirror_mode": {
    "name": "ipython",
    "version": 3
   },
   "file_extension": ".py",
   "mimetype": "text/x-python",
   "name": "python",
   "nbconvert_exporter": "python",
   "pygments_lexer": "ipython3",
   "version": "3.10.9"
  }
 },
 "nbformat": 4,
 "nbformat_minor": 5
}
