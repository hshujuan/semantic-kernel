{
 "cells": [
  {
   "attachments": {},
   "cell_type": "markdown",
   "id": "99a80181",
   "metadata": {},
   "source": [
    "# Introduction to the Planner\n",
    "\n",
    "The Planner is one of the fundamental concepts of the Semantic Kernel.\n",
    "\n",
    "It makes use of the collection of skills that have been registered to the kernel and using AI, will formulate a plan to execute the given ask.\n",
    "\n",
    "We encourage you to implement your own versions of the planner that fit your user needs.\n",
    "\n",
    "Read more about it [here](https://aka.ms/sk/concepts/planner)"
   ]
  },
  {
   "cell_type": "code",
   "execution_count": 11,
   "id": "04e5cf15",
   "metadata": {},
   "outputs": [],
   "source": [
    "# !python -m pip install semantic-kernel==0.2.7.dev0"
   ]
  },
  {
   "cell_type": "code",
   "execution_count": 1,
   "id": "11e59885",
   "metadata": {},
   "outputs": [],
   "source": [
    "import semantic_kernel as sk\n",
    "from semantic_kernel.connectors.ai.open_ai import AzureTextCompletion, OpenAITextCompletion\n",
    "\n",
    "kernel = sk.Kernel()\n",
    "\n",
    "useAzureOpenAI = True\n",
    "\n",
    "# Configure AI backend used by the kernel\n",
    "if useAzureOpenAI:\n",
    "    deployment, api_key, endpoint = sk.azure_openai_settings_from_dot_env()\n",
    "    kernel.add_text_completion_service(\"dv\", AzureTextCompletion(deployment, endpoint, api_key))\n",
    "else:\n",
    "    api_key, org_id = sk.openai_settings_from_dot_env()\n",
    "    kernel.add_text_completion_service(\"dv\", OpenAITextCompletion(\"text-davinci-003\", api_key, org_id))"
   ]
  },
  {
   "attachments": {},
   "cell_type": "markdown",
   "id": "9c885ced",
   "metadata": {},
   "source": [
    "### Setting Up the Planner\n",
    "Here we will be using a BasicPlanner that will create a sequential plan to be evaluated in order. The ouput of a function becomes the inputs of the next function. "
   ]
  },
  {
   "cell_type": "code",
   "execution_count": 2,
   "id": "e2e90624",
   "metadata": {},
   "outputs": [],
   "source": [
    "from semantic_kernel.planning.basic_planner import BasicPlanner\n",
    "planner = BasicPlanner()"
   ]
  },
  {
   "attachments": {},
   "cell_type": "markdown",
   "id": "a5d86739",
   "metadata": {},
   "source": [
    "### Providing skills to the planner\n",
    "The planner needs to know what skills are available to it. Here we'll give it access to the `SummarizeSkill` and `WriterSkill` we have defined on disk. This will include many semantic functions, of which the planner will intelligently choose a subset. \n",
    "\n",
    "You can also include native functions as well. Here we'll add the TextSkill."
   ]
  },
  {
   "cell_type": "code",
   "execution_count": 3,
   "id": "ca0e7604",
   "metadata": {},
   "outputs": [],
   "source": [
    "from semantic_kernel.core_skills.text_skill import TextSkill\n",
    "\n",
    "skills_directory = \"../../skills/\"\n",
    "summarize_skill = kernel.import_semantic_skill_from_directory(skills_directory, \"SummarizeSkill\")\n",
    "writer_skill = kernel.import_semantic_skill_from_directory(skills_directory, \"WriterSkill\")\n",
    "text_skill = kernel.import_skill(TextSkill(), \"TextSkill\")"
   ]
  },
  {
   "cell_type": "code",
   "execution_count": 4,
   "id": "ab40287a",
   "metadata": {},
   "outputs": [
    {
     "data": {
      "text/plain": [
       "{'lowercase': <semantic_kernel.orchestration.sk_function.SKFunction at 0x1fbda7bf3d0>,\n",
       " 'trim': <semantic_kernel.orchestration.sk_function.SKFunction at 0x1fbda7bfb50>,\n",
       " 'trim_end': <semantic_kernel.orchestration.sk_function.SKFunction at 0x1fbda7bfc70>,\n",
       " 'trim_start': <semantic_kernel.orchestration.sk_function.SKFunction at 0x1fbda7bfd90>,\n",
       " 'uppercase': <semantic_kernel.orchestration.sk_function.SKFunction at 0x1fbda7bfeb0>}"
      ]
     },
     "execution_count": 4,
     "metadata": {},
     "output_type": "execute_result"
    }
   ],
   "source": [
    "text_skill"
   ]
  },
  {
   "cell_type": "code",
   "execution_count": 5,
   "id": "9d86ecd4",
   "metadata": {},
   "outputs": [
    {
     "data": {
      "text/plain": [
       "{'MakeAbstractReadable': <semantic_kernel.orchestration.sk_function.SKFunction at 0x1fbda79afd0>,\n",
       " 'Notegen': <semantic_kernel.orchestration.sk_function.SKFunction at 0x1fbda7b11c0>,\n",
       " 'Summarize': <semantic_kernel.orchestration.sk_function.SKFunction at 0x1fbda7b1550>,\n",
       " 'Topics': <semantic_kernel.orchestration.sk_function.SKFunction at 0x1fbda7b1880>}"
      ]
     },
     "execution_count": 5,
     "metadata": {},
     "output_type": "execute_result"
    }
   ],
   "source": [
    "summarize_skill"
   ]
  },
  {
   "cell_type": "code",
   "execution_count": 6,
   "id": "349100a2",
   "metadata": {},
   "outputs": [
    {
     "data": {
      "text/plain": [
       "{'Acronym': <semantic_kernel.orchestration.sk_function.SKFunction at 0x1fbda7b1bb0>,\n",
       " 'AcronymGenerator': <semantic_kernel.orchestration.sk_function.SKFunction at 0x1fbda7b1ee0>,\n",
       " 'AcronymReverse': <semantic_kernel.orchestration.sk_function.SKFunction at 0x1fbda7b6250>,\n",
       " 'Brainstorm': <semantic_kernel.orchestration.sk_function.SKFunction at 0x1fbda7b65e0>,\n",
       " 'EmailGen': <semantic_kernel.orchestration.sk_function.SKFunction at 0x1fbda7b6970>,\n",
       " 'EmailTo': <semantic_kernel.orchestration.sk_function.SKFunction at 0x1fbda7b6e20>,\n",
       " 'EnglishImprover': <semantic_kernel.orchestration.sk_function.SKFunction at 0x1fbda7b80d0>,\n",
       " 'NovelChapter': <semantic_kernel.orchestration.sk_function.SKFunction at 0x1fbda7b8940>,\n",
       " 'NovelChapterWithNotes': <semantic_kernel.orchestration.sk_function.SKFunction at 0x1fbda7b8dc0>,\n",
       " 'NovelOutline': <semantic_kernel.orchestration.sk_function.SKFunction at 0x1fbda7bb520>,\n",
       " 'Rewrite': <semantic_kernel.orchestration.sk_function.SKFunction at 0x1fbda7bb670>,\n",
       " 'ShortPoem': <semantic_kernel.orchestration.sk_function.SKFunction at 0x1fbda7bb9a0>,\n",
       " 'StoryGen': <semantic_kernel.orchestration.sk_function.SKFunction at 0x1fbda7bbcd0>,\n",
       " 'TellMeMore': <semantic_kernel.orchestration.sk_function.SKFunction at 0x1fbda7bf520>,\n",
       " 'Translate': <semantic_kernel.orchestration.sk_function.SKFunction at 0x1fbda7bf490>,\n",
       " 'TwoSentenceSummary': <semantic_kernel.orchestration.sk_function.SKFunction at 0x1fbda7bf8b0>}"
      ]
     },
     "execution_count": 6,
     "metadata": {},
     "output_type": "execute_result"
    }
   ],
   "source": [
    "writer_skill"
   ]
  },
  {
   "attachments": {},
   "cell_type": "markdown",
   "id": "deff5675",
   "metadata": {},
   "source": [
    "Define your ASK. What do you want the Kernel to do?"
   ]
  },
  {
   "cell_type": "code",
   "execution_count": 15,
   "id": "0d537981",
   "metadata": {},
   "outputs": [],
   "source": [
    "ask = \"\"\"\n",
    "Tomorrow is Valentine's day. I need to come up with a few date ideas. She speaks French so write it in French.\n",
    "Convert the text to uppercase\"\"\"\n",
    "original_plan = await planner.create_plan_async(ask, kernel)"
   ]
  },
  {
   "cell_type": "code",
   "execution_count": 16,
   "id": "88411884",
   "metadata": {},
   "outputs": [
    {
     "name": "stdout",
     "output_type": "stream",
     "text": [
      "    {\n",
      "        \"input\": \"Valentine's Day Date Ideas\",\n",
      "        \"subtasks\": [\n",
      "            {\"function\": \"WriterSkill.Brainstorm\"},\n",
      "            {\"function\": \"WriterSkill.Translate\", \"args\": {\"language\": \"French\"}},\n",
      "            {\"function\": \"TextSkill.uppercase\"}\n",
      "        ]\n",
      "    }\n"
     ]
    }
   ],
   "source": [
    "print(original_plan.generated_plan)"
   ]
  },
  {
   "attachments": {},
   "cell_type": "markdown",
   "id": "147587de",
   "metadata": {},
   "source": [
    "You can see that the Planner took my ask and converted it into an JSON-based plan detailing\n",
    "how the AI would go about solving this task, making use of the skills that the Kernel has available to it."
   ]
  },
  {
   "attachments": {},
   "cell_type": "markdown",
   "id": "1318dc72",
   "metadata": {},
   "source": [
    "As you can see in the above plan, the AI has determined which functions to call \n",
    "in order to fulfill the user ask. The output of each step of the plan becomes the `input` to the next function. "
   ]
  },
  {
   "attachments": {},
   "cell_type": "markdown",
   "id": "a64c88a7",
   "metadata": {},
   "source": [
    "Let's also define an inline skill and have it be available to the Planner.\n",
    "Be sure to give it a function name and skill name."
   ]
  },
  {
   "cell_type": "code",
   "execution_count": 17,
   "id": "e973007f",
   "metadata": {},
   "outputs": [],
   "source": [
    "sk_prompt = \"\"\"\n",
    "{{$input}}\n",
    "\n",
    "Rewrite the above in the style of Shakespeare.\n",
    "\"\"\"\n",
    "shakespeareFunction = kernel.create_semantic_function(sk_prompt, \"shakespeare\", \"ShakespeareSkill\",\n",
    "                                                      max_tokens=2000, temperature=0.8)"
   ]
  },
  {
   "attachments": {},
   "cell_type": "markdown",
   "id": "305743f5",
   "metadata": {},
   "source": [
    "Let's update our ask using this new skill."
   ]
  },
  {
   "cell_type": "code",
   "execution_count": 18,
   "id": "bfd23ac4",
   "metadata": {},
   "outputs": [],
   "source": [
    "ask = \"\"\"\n",
    "Tomorrow is Valentine's day. I need to come up with a few date ideas.\n",
    "She likes Shakespeare so write using his style. She speaks French so write it in French.\n",
    "Convert the text to uppercase.\"\"\"\n",
    "\n",
    "new_plan = await planner.create_plan_async(ask, kernel)"
   ]
  },
  {
   "cell_type": "code",
   "execution_count": 19,
   "id": "b09c4834",
   "metadata": {},
   "outputs": [
    {
     "name": "stdout",
     "output_type": "stream",
     "text": [
      "    {\n",
      "        \"input\": \"Valentine's Day Date Ideas\",\n",
      "        \"subtasks\": [\n",
      "            {\"function\": \"WriterSkill.Brainstorm\"},\n",
      "            {\"function\": \"ShakespeareSkill.shakespeare\"},\n",
      "            {\"function\": \"WriterSkill.Translate\", \"args\": {\"language\": \"French\"}},\n",
      "            {\"function\": \"TextSkill.uppercase\"}\n",
      "        ]\n",
      "    }\n"
     ]
    }
   ],
   "source": [
    "print(new_plan.generated_plan)"
   ]
  },
  {
   "attachments": {},
   "cell_type": "markdown",
   "id": "f5e6ac56",
   "metadata": {},
   "source": [
    "### Executing the plan\n",
    "\n",
    "Now that we have a plan, let's try to execute it! The Planner has a function called `execute_plan`."
   ]
  },
  {
   "cell_type": "code",
   "execution_count": 20,
   "id": "cf30b5da",
   "metadata": {},
   "outputs": [],
   "source": [
    "results = await planner.execute_plan_async(new_plan, kernel)"
   ]
  },
  {
   "cell_type": "code",
   "execution_count": 21,
   "id": "eb9727c0",
   "metadata": {},
   "outputs": [
    {
     "name": "stdout",
     "output_type": "stream",
     "text": [
      "1. ENSEMBLE DANS UNE CLASSE DE CUISINE,\n",
      "2. NOUS AVONS UN PIQUE-NIQUE ROMANTIQUE,\n",
      "3. UNE JOURNÉE DE SPA DE PLAISIR CHOYÉ SOIT,\n",
      "4. ÉCOUTONS UN CONCERT EN PLEIN AIR,\n",
      "5. NOUS DEVONS NOUS PROMENER DANS UN MUSÉE OU UNE GALERIE D'ART,\n",
      "6. UN VOYAGE EN VOITURE EST UN MUST,\n",
      "7. UN DÎNER ROMANTIQUE SOIT NOTRE DÉLICE DU SOIR,\n",
      "8. ALLONS À UNE CAVE À VIN EN VOL,\n",
      "9. NOUS DEVONS ALLER ENSEMBLE SUR DES PATINS À GLACE,\n",
      "10. CONTEMPLONS LE COUCHER DE SOLEIL ENSEMBLE.\n"
     ]
    }
   ],
   "source": [
    "print(results)"
   ]
  }
 ],
 "metadata": {
  "kernelspec": {
   "display_name": "Python 3 (ipykernel)",
   "language": "python",
   "name": "python3"
  },
  "language_info": {
   "codemirror_mode": {
    "name": "ipython",
    "version": 3
   },
   "file_extension": ".py",
   "mimetype": "text/x-python",
   "name": "python",
   "nbconvert_exporter": "python",
   "pygments_lexer": "ipython3",
   "version": "3.8.16"
  }
 },
 "nbformat": 4,
 "nbformat_minor": 5
}
